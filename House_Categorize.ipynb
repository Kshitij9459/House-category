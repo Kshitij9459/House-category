{
  "nbformat": 4,
  "nbformat_minor": 0,
  "metadata": {
    "colab": {
      "name": "House Categorize.ipynb",
      "version": "0.3.2",
      "provenance": []
    },
    "kernelspec": {
      "name": "python3",
      "display_name": "Python 3"
    }
  },
  "cells": [
    {
      "metadata": {
        "id": "BiAGq3Xd_68U",
        "colab_type": "code",
        "colab": {}
      },
      "cell_type": "code",
      "source": [
        "import numpy as np\n",
        "import pandas as pd"
      ],
      "execution_count": 0,
      "outputs": []
    },
    {
      "metadata": {
        "id": "ZAlMoTFVAIp7",
        "colab_type": "code",
        "colab": {}
      },
      "cell_type": "code",
      "source": [
        "df=pd.read_csv('CSV 1.csv')"
      ],
      "execution_count": 0,
      "outputs": []
    },
    {
      "metadata": {
        "id": "gyFwZ3LXALlG",
        "colab_type": "code",
        "colab": {
          "base_uri": "https://localhost:8080/",
          "height": 406
        },
        "outputId": "e6a5b8ad-7837-4c9e-d078-7faef23f2d50"
      },
      "cell_type": "code",
      "source": [
        "df.head()"
      ],
      "execution_count": 98,
      "outputs": [
        {
          "output_type": "execute_result",
          "data": {
            "text/html": [
              "<div>\n",
              "<style scoped>\n",
              "    .dataframe tbody tr th:only-of-type {\n",
              "        vertical-align: middle;\n",
              "    }\n",
              "\n",
              "    .dataframe tbody tr th {\n",
              "        vertical-align: top;\n",
              "    }\n",
              "\n",
              "    .dataframe thead th {\n",
              "        text-align: right;\n",
              "    }\n",
              "</style>\n",
              "<table border=\"1\" class=\"dataframe\">\n",
              "  <thead>\n",
              "    <tr style=\"text-align: right;\">\n",
              "      <th></th>\n",
              "      <th>id</th>\n",
              "      <th>city</th>\n",
              "      <th>country</th>\n",
              "      <th>fullStreetAddress</th>\n",
              "      <th>postalCode</th>\n",
              "      <th>stateOrProvince</th>\n",
              "      <th>unitNumber</th>\n",
              "      <th>bathrooms</th>\n",
              "      <th>bedrooms</th>\n",
              "      <th>listingDescription</th>\n",
              "      <th>...</th>\n",
              "      <th>yearBuilt</th>\n",
              "      <th>lotSize</th>\n",
              "      <th>lotSizeUnit</th>\n",
              "      <th>propertySubType</th>\n",
              "      <th>listingCategory</th>\n",
              "      <th>numParkingSpaces</th>\n",
              "      <th>createdAt</th>\n",
              "      <th>geocodioAccuracyScore</th>\n",
              "      <th>photoscount</th>\n",
              "      <th>grade</th>\n",
              "    </tr>\n",
              "  </thead>\n",
              "  <tbody>\n",
              "    <tr>\n",
              "      <th>0</th>\n",
              "      <td>2698139</td>\n",
              "      <td>St Peters</td>\n",
              "      <td>US</td>\n",
              "      <td>12 Legacy Estates Lane</td>\n",
              "      <td>63376</td>\n",
              "      <td>MO</td>\n",
              "      <td>NaN</td>\n",
              "      <td>6</td>\n",
              "      <td>5</td>\n",
              "      <td>Tucked away in the private Legacy Estates subd...</td>\n",
              "      <td>...</td>\n",
              "      <td>1998.0</td>\n",
              "      <td>NaN</td>\n",
              "      <td>squareFoot</td>\n",
              "      <td>Single Family Detached</td>\n",
              "      <td>Purchase</td>\n",
              "      <td>3.0</td>\n",
              "      <td>2019-02-21 14:53:27.462+00</td>\n",
              "      <td>NaN</td>\n",
              "      <td>29</td>\n",
              "      <td>awesome</td>\n",
              "    </tr>\n",
              "    <tr>\n",
              "      <th>1</th>\n",
              "      <td>2698093</td>\n",
              "      <td>St Louis</td>\n",
              "      <td>US</td>\n",
              "      <td>222 Euclid Avenue</td>\n",
              "      <td>63119</td>\n",
              "      <td>MO</td>\n",
              "      <td>NaN</td>\n",
              "      <td>2</td>\n",
              "      <td>3</td>\n",
              "      <td>This charming Ranch offers hardwood flooring o...</td>\n",
              "      <td>...</td>\n",
              "      <td>1962.0</td>\n",
              "      <td>7753.68</td>\n",
              "      <td>squareFoot</td>\n",
              "      <td>Single Family Detached</td>\n",
              "      <td>Purchase</td>\n",
              "      <td>1.0</td>\n",
              "      <td>2019-02-21 14:53:07.92+00</td>\n",
              "      <td>NaN</td>\n",
              "      <td>29</td>\n",
              "      <td>awesome</td>\n",
              "    </tr>\n",
              "    <tr>\n",
              "      <th>2</th>\n",
              "      <td>2698007</td>\n",
              "      <td>Ballwin</td>\n",
              "      <td>US</td>\n",
              "      <td>741 Woodside Trails Drive</td>\n",
              "      <td>63021</td>\n",
              "      <td>MO</td>\n",
              "      <td>NaN</td>\n",
              "      <td>3</td>\n",
              "      <td>3</td>\n",
              "      <td>This is the LARGEST Villa-style condo in this ...</td>\n",
              "      <td>...</td>\n",
              "      <td>1986.0</td>\n",
              "      <td>14766.84</td>\n",
              "      <td>squareFoot</td>\n",
              "      <td>Condominium</td>\n",
              "      <td>Purchase</td>\n",
              "      <td>2.0</td>\n",
              "      <td>2019-02-21 14:52:30.126+00</td>\n",
              "      <td>NaN</td>\n",
              "      <td>29</td>\n",
              "      <td>awesome</td>\n",
              "    </tr>\n",
              "    <tr>\n",
              "      <th>3</th>\n",
              "      <td>2697963</td>\n",
              "      <td>Manchester</td>\n",
              "      <td>US</td>\n",
              "      <td>301 Wembley Lane</td>\n",
              "      <td>63021</td>\n",
              "      <td>MO</td>\n",
              "      <td>NaN</td>\n",
              "      <td>2</td>\n",
              "      <td>3</td>\n",
              "      <td>Over 1700 sq ft of updated living space in con...</td>\n",
              "      <td>...</td>\n",
              "      <td>1969.0</td>\n",
              "      <td>11848.32</td>\n",
              "      <td>squareFoot</td>\n",
              "      <td>Single Family Detached</td>\n",
              "      <td>Purchase</td>\n",
              "      <td>2.0</td>\n",
              "      <td>2019-02-21 14:52:11.85+00</td>\n",
              "      <td>NaN</td>\n",
              "      <td>29</td>\n",
              "      <td>awesome</td>\n",
              "    </tr>\n",
              "    <tr>\n",
              "      <th>4</th>\n",
              "      <td>2697938</td>\n",
              "      <td>O'fallon</td>\n",
              "      <td>US</td>\n",
              "      <td>27 Clear Meadows</td>\n",
              "      <td>63366</td>\n",
              "      <td>MO</td>\n",
              "      <td>NaN</td>\n",
              "      <td>4</td>\n",
              "      <td>4</td>\n",
              "      <td>Move in ready, excellent condition. Outstandin...</td>\n",
              "      <td>...</td>\n",
              "      <td>2007.0</td>\n",
              "      <td>10890.00</td>\n",
              "      <td>squareFoot</td>\n",
              "      <td>Single Family Detached</td>\n",
              "      <td>Purchase</td>\n",
              "      <td>3.0</td>\n",
              "      <td>2019-02-21 14:51:55.495+00</td>\n",
              "      <td>NaN</td>\n",
              "      <td>29</td>\n",
              "      <td>awesome</td>\n",
              "    </tr>\n",
              "  </tbody>\n",
              "</table>\n",
              "<p>5 rows × 26 columns</p>\n",
              "</div>"
            ],
            "text/plain": [
              "        id        city country          fullStreetAddress postalCode  \\\n",
              "0  2698139   St Peters      US     12 Legacy Estates Lane      63376   \n",
              "1  2698093    St Louis      US          222 Euclid Avenue      63119   \n",
              "2  2698007     Ballwin      US  741 Woodside Trails Drive      63021   \n",
              "3  2697963  Manchester      US           301 Wembley Lane      63021   \n",
              "4  2697938    O'fallon      US           27 Clear Meadows      63366   \n",
              "\n",
              "  stateOrProvince unitNumber  bathrooms  bedrooms  \\\n",
              "0              MO        NaN          6         5   \n",
              "1              MO        NaN          2         3   \n",
              "2              MO        NaN          3         3   \n",
              "3              MO        NaN          2         3   \n",
              "4              MO        NaN          4         4   \n",
              "\n",
              "                                  listingDescription   ...    yearBuilt  \\\n",
              "0  Tucked away in the private Legacy Estates subd...   ...       1998.0   \n",
              "1  This charming Ranch offers hardwood flooring o...   ...       1962.0   \n",
              "2  This is the LARGEST Villa-style condo in this ...   ...       1986.0   \n",
              "3  Over 1700 sq ft of updated living space in con...   ...       1969.0   \n",
              "4  Move in ready, excellent condition. Outstandin...   ...       2007.0   \n",
              "\n",
              "    lotSize  lotSizeUnit         propertySubType  listingCategory  \\\n",
              "0       NaN   squareFoot  Single Family Detached         Purchase   \n",
              "1   7753.68   squareFoot  Single Family Detached         Purchase   \n",
              "2  14766.84   squareFoot             Condominium         Purchase   \n",
              "3  11848.32   squareFoot  Single Family Detached         Purchase   \n",
              "4  10890.00   squareFoot  Single Family Detached         Purchase   \n",
              "\n",
              "  numParkingSpaces                   createdAt  geocodioAccuracyScore  \\\n",
              "0              3.0  2019-02-21 14:53:27.462+00                    NaN   \n",
              "1              1.0   2019-02-21 14:53:07.92+00                    NaN   \n",
              "2              2.0  2019-02-21 14:52:30.126+00                    NaN   \n",
              "3              2.0   2019-02-21 14:52:11.85+00                    NaN   \n",
              "4              3.0  2019-02-21 14:51:55.495+00                    NaN   \n",
              "\n",
              "  photoscount    grade  \n",
              "0          29  awesome  \n",
              "1          29  awesome  \n",
              "2          29  awesome  \n",
              "3          29  awesome  \n",
              "4          29  awesome  \n",
              "\n",
              "[5 rows x 26 columns]"
            ]
          },
          "metadata": {
            "tags": []
          },
          "execution_count": 98
        }
      ]
    },
    {
      "metadata": {
        "id": "iP5OU3XRAO5x",
        "colab_type": "code",
        "colab": {
          "base_uri": "https://localhost:8080/",
          "height": 297
        },
        "outputId": "49b55d6c-534b-4e57-8613-b1da4e9fb879"
      },
      "cell_type": "code",
      "source": [
        "df.describe()"
      ],
      "execution_count": 99,
      "outputs": [
        {
          "output_type": "execute_result",
          "data": {
            "text/html": [
              "<div>\n",
              "<style scoped>\n",
              "    .dataframe tbody tr th:only-of-type {\n",
              "        vertical-align: middle;\n",
              "    }\n",
              "\n",
              "    .dataframe tbody tr th {\n",
              "        vertical-align: top;\n",
              "    }\n",
              "\n",
              "    .dataframe thead th {\n",
              "        text-align: right;\n",
              "    }\n",
              "</style>\n",
              "<table border=\"1\" class=\"dataframe\">\n",
              "  <thead>\n",
              "    <tr style=\"text-align: right;\">\n",
              "      <th></th>\n",
              "      <th>id</th>\n",
              "      <th>bathrooms</th>\n",
              "      <th>bedrooms</th>\n",
              "      <th>latitude</th>\n",
              "      <th>longitude</th>\n",
              "      <th>listPrice</th>\n",
              "      <th>livingArea</th>\n",
              "      <th>yearBuilt</th>\n",
              "      <th>lotSize</th>\n",
              "      <th>numParkingSpaces</th>\n",
              "      <th>geocodioAccuracyScore</th>\n",
              "      <th>photoscount</th>\n",
              "    </tr>\n",
              "  </thead>\n",
              "  <tbody>\n",
              "    <tr>\n",
              "      <th>count</th>\n",
              "      <td>9.000000e+02</td>\n",
              "      <td>900.000000</td>\n",
              "      <td>900.000000</td>\n",
              "      <td>789.000000</td>\n",
              "      <td>789.000000</td>\n",
              "      <td>9.000000e+02</td>\n",
              "      <td>726.000000</td>\n",
              "      <td>791.000000</td>\n",
              "      <td>5.620000e+02</td>\n",
              "      <td>460.000000</td>\n",
              "      <td>27.000000</td>\n",
              "      <td>900.000000</td>\n",
              "    </tr>\n",
              "    <tr>\n",
              "      <th>mean</th>\n",
              "      <td>1.379640e+06</td>\n",
              "      <td>2.220000</td>\n",
              "      <td>2.948889</td>\n",
              "      <td>36.058472</td>\n",
              "      <td>-88.433106</td>\n",
              "      <td>4.455732e+05</td>\n",
              "      <td>2084.289256</td>\n",
              "      <td>1979.609355</td>\n",
              "      <td>1.224170e+05</td>\n",
              "      <td>3.919565</td>\n",
              "      <td>0.952963</td>\n",
              "      <td>18.700000</td>\n",
              "    </tr>\n",
              "    <tr>\n",
              "      <th>std</th>\n",
              "      <td>8.350904e+05</td>\n",
              "      <td>1.359857</td>\n",
              "      <td>2.110319</td>\n",
              "      <td>5.520729</td>\n",
              "      <td>13.363031</td>\n",
              "      <td>4.869270e+06</td>\n",
              "      <td>4154.019862</td>\n",
              "      <td>44.355673</td>\n",
              "      <td>1.110570e+06</td>\n",
              "      <td>46.660458</td>\n",
              "      <td>0.158012</td>\n",
              "      <td>16.242976</td>\n",
              "    </tr>\n",
              "    <tr>\n",
              "      <th>min</th>\n",
              "      <td>2.637000e+03</td>\n",
              "      <td>0.000000</td>\n",
              "      <td>0.000000</td>\n",
              "      <td>18.385107</td>\n",
              "      <td>-157.877612</td>\n",
              "      <td>2.850000e+02</td>\n",
              "      <td>0.000000</td>\n",
              "      <td>1111.000000</td>\n",
              "      <td>0.000000e+00</td>\n",
              "      <td>0.000000</td>\n",
              "      <td>0.330000</td>\n",
              "      <td>0.000000</td>\n",
              "    </tr>\n",
              "    <tr>\n",
              "      <th>25%</th>\n",
              "      <td>6.939698e+05</td>\n",
              "      <td>1.000000</td>\n",
              "      <td>2.000000</td>\n",
              "      <td>32.650636</td>\n",
              "      <td>-94.836975</td>\n",
              "      <td>6.497500e+04</td>\n",
              "      <td>1233.000000</td>\n",
              "      <td>1962.000000</td>\n",
              "      <td>6.534000e+03</td>\n",
              "      <td>1.000000</td>\n",
              "      <td>1.000000</td>\n",
              "      <td>1.000000</td>\n",
              "    </tr>\n",
              "    <tr>\n",
              "      <th>50%</th>\n",
              "      <td>1.362506e+06</td>\n",
              "      <td>2.000000</td>\n",
              "      <td>3.000000</td>\n",
              "      <td>36.053461</td>\n",
              "      <td>-84.288388</td>\n",
              "      <td>1.999000e+05</td>\n",
              "      <td>1684.000000</td>\n",
              "      <td>1987.000000</td>\n",
              "      <td>1.043262e+04</td>\n",
              "      <td>2.000000</td>\n",
              "      <td>1.000000</td>\n",
              "      <td>19.000000</td>\n",
              "    </tr>\n",
              "    <tr>\n",
              "      <th>75%</th>\n",
              "      <td>2.034228e+06</td>\n",
              "      <td>3.000000</td>\n",
              "      <td>4.000000</td>\n",
              "      <td>40.744408</td>\n",
              "      <td>-80.175833</td>\n",
              "      <td>3.399250e+05</td>\n",
              "      <td>2289.500000</td>\n",
              "      <td>2005.000000</td>\n",
              "      <td>2.178000e+04</td>\n",
              "      <td>2.000000</td>\n",
              "      <td>1.000000</td>\n",
              "      <td>30.000000</td>\n",
              "    </tr>\n",
              "    <tr>\n",
              "      <th>max</th>\n",
              "      <td>2.698139e+06</td>\n",
              "      <td>13.000000</td>\n",
              "      <td>51.000000</td>\n",
              "      <td>48.093560</td>\n",
              "      <td>-66.163046</td>\n",
              "      <td>1.450000e+08</td>\n",
              "      <td>99971.000000</td>\n",
              "      <td>2019.000000</td>\n",
              "      <td>1.899216e+07</td>\n",
              "      <td>1002.000000</td>\n",
              "      <td>1.000000</td>\n",
              "      <td>91.000000</td>\n",
              "    </tr>\n",
              "  </tbody>\n",
              "</table>\n",
              "</div>"
            ],
            "text/plain": [
              "                 id   bathrooms    bedrooms    latitude   longitude  \\\n",
              "count  9.000000e+02  900.000000  900.000000  789.000000  789.000000   \n",
              "mean   1.379640e+06    2.220000    2.948889   36.058472  -88.433106   \n",
              "std    8.350904e+05    1.359857    2.110319    5.520729   13.363031   \n",
              "min    2.637000e+03    0.000000    0.000000   18.385107 -157.877612   \n",
              "25%    6.939698e+05    1.000000    2.000000   32.650636  -94.836975   \n",
              "50%    1.362506e+06    2.000000    3.000000   36.053461  -84.288388   \n",
              "75%    2.034228e+06    3.000000    4.000000   40.744408  -80.175833   \n",
              "max    2.698139e+06   13.000000   51.000000   48.093560  -66.163046   \n",
              "\n",
              "          listPrice    livingArea    yearBuilt       lotSize  \\\n",
              "count  9.000000e+02    726.000000   791.000000  5.620000e+02   \n",
              "mean   4.455732e+05   2084.289256  1979.609355  1.224170e+05   \n",
              "std    4.869270e+06   4154.019862    44.355673  1.110570e+06   \n",
              "min    2.850000e+02      0.000000  1111.000000  0.000000e+00   \n",
              "25%    6.497500e+04   1233.000000  1962.000000  6.534000e+03   \n",
              "50%    1.999000e+05   1684.000000  1987.000000  1.043262e+04   \n",
              "75%    3.399250e+05   2289.500000  2005.000000  2.178000e+04   \n",
              "max    1.450000e+08  99971.000000  2019.000000  1.899216e+07   \n",
              "\n",
              "       numParkingSpaces  geocodioAccuracyScore  photoscount  \n",
              "count        460.000000              27.000000   900.000000  \n",
              "mean           3.919565               0.952963    18.700000  \n",
              "std           46.660458               0.158012    16.242976  \n",
              "min            0.000000               0.330000     0.000000  \n",
              "25%            1.000000               1.000000     1.000000  \n",
              "50%            2.000000               1.000000    19.000000  \n",
              "75%            2.000000               1.000000    30.000000  \n",
              "max         1002.000000               1.000000    91.000000  "
            ]
          },
          "metadata": {
            "tags": []
          },
          "execution_count": 99
        }
      ]
    },
    {
      "metadata": {
        "id": "dIXf7XJEARSI",
        "colab_type": "code",
        "colab": {
          "base_uri": "https://localhost:8080/",
          "height": 544
        },
        "outputId": "634e97eb-18ef-4f89-84c4-47fed9bdbb17"
      },
      "cell_type": "code",
      "source": [
        "df.info()"
      ],
      "execution_count": 100,
      "outputs": [
        {
          "output_type": "stream",
          "text": [
            "<class 'pandas.core.frame.DataFrame'>\n",
            "RangeIndex: 900 entries, 0 to 899\n",
            "Data columns (total 26 columns):\n",
            "id                       900 non-null int64\n",
            "city                     900 non-null object\n",
            "country                  900 non-null object\n",
            "fullStreetAddress        900 non-null object\n",
            "postalCode               900 non-null object\n",
            "stateOrProvince          899 non-null object\n",
            "unitNumber               118 non-null object\n",
            "bathrooms                900 non-null int64\n",
            "bedrooms                 900 non-null int64\n",
            "listingDescription       842 non-null object\n",
            "listingTitle             900 non-null object\n",
            "latitude                 789 non-null float64\n",
            "longitude                789 non-null float64\n",
            "listPrice                900 non-null float64\n",
            "livingArea               726 non-null float64\n",
            "livingAreaUnit           900 non-null object\n",
            "yearBuilt                791 non-null float64\n",
            "lotSize                  562 non-null float64\n",
            "lotSizeUnit              900 non-null object\n",
            "propertySubType          900 non-null object\n",
            "listingCategory          900 non-null object\n",
            "numParkingSpaces         460 non-null float64\n",
            "createdAt                900 non-null object\n",
            "geocodioAccuracyScore    27 non-null float64\n",
            "photoscount              900 non-null int64\n",
            "grade                    900 non-null object\n",
            "dtypes: float64(8), int64(4), object(14)\n",
            "memory usage: 182.9+ KB\n"
          ],
          "name": "stdout"
        }
      ]
    },
    {
      "metadata": {
        "id": "iABcXVcCAYAr",
        "colab_type": "code",
        "colab": {
          "base_uri": "https://localhost:8080/",
          "height": 423
        },
        "outputId": "77446ef2-b3f8-4076-b3b8-b0907059726f"
      },
      "cell_type": "code",
      "source": [
        "df.drop(['id'],axis=1,inplace=True)\n",
        "df.head()"
      ],
      "execution_count": 101,
      "outputs": [
        {
          "output_type": "execute_result",
          "data": {
            "text/html": [
              "<div>\n",
              "<style scoped>\n",
              "    .dataframe tbody tr th:only-of-type {\n",
              "        vertical-align: middle;\n",
              "    }\n",
              "\n",
              "    .dataframe tbody tr th {\n",
              "        vertical-align: top;\n",
              "    }\n",
              "\n",
              "    .dataframe thead th {\n",
              "        text-align: right;\n",
              "    }\n",
              "</style>\n",
              "<table border=\"1\" class=\"dataframe\">\n",
              "  <thead>\n",
              "    <tr style=\"text-align: right;\">\n",
              "      <th></th>\n",
              "      <th>city</th>\n",
              "      <th>country</th>\n",
              "      <th>fullStreetAddress</th>\n",
              "      <th>postalCode</th>\n",
              "      <th>stateOrProvince</th>\n",
              "      <th>unitNumber</th>\n",
              "      <th>bathrooms</th>\n",
              "      <th>bedrooms</th>\n",
              "      <th>listingDescription</th>\n",
              "      <th>listingTitle</th>\n",
              "      <th>...</th>\n",
              "      <th>yearBuilt</th>\n",
              "      <th>lotSize</th>\n",
              "      <th>lotSizeUnit</th>\n",
              "      <th>propertySubType</th>\n",
              "      <th>listingCategory</th>\n",
              "      <th>numParkingSpaces</th>\n",
              "      <th>createdAt</th>\n",
              "      <th>geocodioAccuracyScore</th>\n",
              "      <th>photoscount</th>\n",
              "      <th>grade</th>\n",
              "    </tr>\n",
              "  </thead>\n",
              "  <tbody>\n",
              "    <tr>\n",
              "      <th>0</th>\n",
              "      <td>St Peters</td>\n",
              "      <td>US</td>\n",
              "      <td>12 Legacy Estates Lane</td>\n",
              "      <td>63376</td>\n",
              "      <td>MO</td>\n",
              "      <td>NaN</td>\n",
              "      <td>6</td>\n",
              "      <td>5</td>\n",
              "      <td>Tucked away in the private Legacy Estates subd...</td>\n",
              "      <td>Residential, Traditional - St Peters, MO</td>\n",
              "      <td>...</td>\n",
              "      <td>1998.0</td>\n",
              "      <td>NaN</td>\n",
              "      <td>squareFoot</td>\n",
              "      <td>Single Family Detached</td>\n",
              "      <td>Purchase</td>\n",
              "      <td>3.0</td>\n",
              "      <td>2019-02-21 14:53:27.462+00</td>\n",
              "      <td>NaN</td>\n",
              "      <td>29</td>\n",
              "      <td>awesome</td>\n",
              "    </tr>\n",
              "    <tr>\n",
              "      <th>1</th>\n",
              "      <td>St Louis</td>\n",
              "      <td>US</td>\n",
              "      <td>222 Euclid Avenue</td>\n",
              "      <td>63119</td>\n",
              "      <td>MO</td>\n",
              "      <td>NaN</td>\n",
              "      <td>2</td>\n",
              "      <td>3</td>\n",
              "      <td>This charming Ranch offers hardwood flooring o...</td>\n",
              "      <td>Residential, Traditional,Ranch - St Louis, MO</td>\n",
              "      <td>...</td>\n",
              "      <td>1962.0</td>\n",
              "      <td>7753.68</td>\n",
              "      <td>squareFoot</td>\n",
              "      <td>Single Family Detached</td>\n",
              "      <td>Purchase</td>\n",
              "      <td>1.0</td>\n",
              "      <td>2019-02-21 14:53:07.92+00</td>\n",
              "      <td>NaN</td>\n",
              "      <td>29</td>\n",
              "      <td>awesome</td>\n",
              "    </tr>\n",
              "    <tr>\n",
              "      <th>2</th>\n",
              "      <td>Ballwin</td>\n",
              "      <td>US</td>\n",
              "      <td>741 Woodside Trails Drive</td>\n",
              "      <td>63021</td>\n",
              "      <td>MO</td>\n",
              "      <td>NaN</td>\n",
              "      <td>3</td>\n",
              "      <td>3</td>\n",
              "      <td>This is the LARGEST Villa-style condo in this ...</td>\n",
              "      <td>Traditional,Ranch, Condo - Ballwin, MO</td>\n",
              "      <td>...</td>\n",
              "      <td>1986.0</td>\n",
              "      <td>14766.84</td>\n",
              "      <td>squareFoot</td>\n",
              "      <td>Condominium</td>\n",
              "      <td>Purchase</td>\n",
              "      <td>2.0</td>\n",
              "      <td>2019-02-21 14:52:30.126+00</td>\n",
              "      <td>NaN</td>\n",
              "      <td>29</td>\n",
              "      <td>awesome</td>\n",
              "    </tr>\n",
              "    <tr>\n",
              "      <th>3</th>\n",
              "      <td>Manchester</td>\n",
              "      <td>US</td>\n",
              "      <td>301 Wembley Lane</td>\n",
              "      <td>63021</td>\n",
              "      <td>MO</td>\n",
              "      <td>NaN</td>\n",
              "      <td>2</td>\n",
              "      <td>3</td>\n",
              "      <td>Over 1700 sq ft of updated living space in con...</td>\n",
              "      <td>Traditional,Split Foyer, Residential - Manches...</td>\n",
              "      <td>...</td>\n",
              "      <td>1969.0</td>\n",
              "      <td>11848.32</td>\n",
              "      <td>squareFoot</td>\n",
              "      <td>Single Family Detached</td>\n",
              "      <td>Purchase</td>\n",
              "      <td>2.0</td>\n",
              "      <td>2019-02-21 14:52:11.85+00</td>\n",
              "      <td>NaN</td>\n",
              "      <td>29</td>\n",
              "      <td>awesome</td>\n",
              "    </tr>\n",
              "    <tr>\n",
              "      <th>4</th>\n",
              "      <td>O'fallon</td>\n",
              "      <td>US</td>\n",
              "      <td>27 Clear Meadows</td>\n",
              "      <td>63366</td>\n",
              "      <td>MO</td>\n",
              "      <td>NaN</td>\n",
              "      <td>4</td>\n",
              "      <td>4</td>\n",
              "      <td>Move in ready, excellent condition. Outstandin...</td>\n",
              "      <td>Residential, Traditional - O'Fallon, MO</td>\n",
              "      <td>...</td>\n",
              "      <td>2007.0</td>\n",
              "      <td>10890.00</td>\n",
              "      <td>squareFoot</td>\n",
              "      <td>Single Family Detached</td>\n",
              "      <td>Purchase</td>\n",
              "      <td>3.0</td>\n",
              "      <td>2019-02-21 14:51:55.495+00</td>\n",
              "      <td>NaN</td>\n",
              "      <td>29</td>\n",
              "      <td>awesome</td>\n",
              "    </tr>\n",
              "  </tbody>\n",
              "</table>\n",
              "<p>5 rows × 25 columns</p>\n",
              "</div>"
            ],
            "text/plain": [
              "         city country          fullStreetAddress postalCode stateOrProvince  \\\n",
              "0   St Peters      US     12 Legacy Estates Lane      63376              MO   \n",
              "1    St Louis      US          222 Euclid Avenue      63119              MO   \n",
              "2     Ballwin      US  741 Woodside Trails Drive      63021              MO   \n",
              "3  Manchester      US           301 Wembley Lane      63021              MO   \n",
              "4    O'fallon      US           27 Clear Meadows      63366              MO   \n",
              "\n",
              "  unitNumber  bathrooms  bedrooms  \\\n",
              "0        NaN          6         5   \n",
              "1        NaN          2         3   \n",
              "2        NaN          3         3   \n",
              "3        NaN          2         3   \n",
              "4        NaN          4         4   \n",
              "\n",
              "                                  listingDescription  \\\n",
              "0  Tucked away in the private Legacy Estates subd...   \n",
              "1  This charming Ranch offers hardwood flooring o...   \n",
              "2  This is the LARGEST Villa-style condo in this ...   \n",
              "3  Over 1700 sq ft of updated living space in con...   \n",
              "4  Move in ready, excellent condition. Outstandin...   \n",
              "\n",
              "                                        listingTitle   ...     yearBuilt  \\\n",
              "0           Residential, Traditional - St Peters, MO   ...        1998.0   \n",
              "1      Residential, Traditional,Ranch - St Louis, MO   ...        1962.0   \n",
              "2             Traditional,Ranch, Condo - Ballwin, MO   ...        1986.0   \n",
              "3  Traditional,Split Foyer, Residential - Manches...   ...        1969.0   \n",
              "4            Residential, Traditional - O'Fallon, MO   ...        2007.0   \n",
              "\n",
              "    lotSize  lotSizeUnit         propertySubType listingCategory  \\\n",
              "0       NaN   squareFoot  Single Family Detached        Purchase   \n",
              "1   7753.68   squareFoot  Single Family Detached        Purchase   \n",
              "2  14766.84   squareFoot             Condominium        Purchase   \n",
              "3  11848.32   squareFoot  Single Family Detached        Purchase   \n",
              "4  10890.00   squareFoot  Single Family Detached        Purchase   \n",
              "\n",
              "   numParkingSpaces                   createdAt geocodioAccuracyScore  \\\n",
              "0               3.0  2019-02-21 14:53:27.462+00                   NaN   \n",
              "1               1.0   2019-02-21 14:53:07.92+00                   NaN   \n",
              "2               2.0  2019-02-21 14:52:30.126+00                   NaN   \n",
              "3               2.0   2019-02-21 14:52:11.85+00                   NaN   \n",
              "4               3.0  2019-02-21 14:51:55.495+00                   NaN   \n",
              "\n",
              "  photoscount    grade  \n",
              "0          29  awesome  \n",
              "1          29  awesome  \n",
              "2          29  awesome  \n",
              "3          29  awesome  \n",
              "4          29  awesome  \n",
              "\n",
              "[5 rows x 25 columns]"
            ]
          },
          "metadata": {
            "tags": []
          },
          "execution_count": 101
        }
      ]
    },
    {
      "metadata": {
        "id": "q1iKhAUiBYNY",
        "colab_type": "code",
        "colab": {
          "base_uri": "https://localhost:8080/",
          "height": 527
        },
        "outputId": "9544bc09-13b9-421c-c821-63fd6b512afe"
      },
      "cell_type": "code",
      "source": [
        "df.info()\n",
        "df.drop(['fullStreetAddress'],axis=1,inplace=True)\n",
        "df.drop(['stateOrProvince'],axis=1,inplace=True)\n",
        "df.drop(['unitNumber'],axis=1,inplace=True)\n",
        "df.drop(['listingDescription'],axis=1,inplace=True)\n",
        "df.drop(['listingTitle'],axis=1,inplace=True)\n",
        "df.drop(['latitude'],axis=1,inplace=True)\n",
        "df.drop(['longitude'],axis=1,inplace=True)\n",
        "df.drop(['geocodioAccuracyScore'],axis=1,inplace=True)\n",
        "\n",
        "df.drop(['yearBuilt'],axis=1,inplace=True)"
      ],
      "execution_count": 102,
      "outputs": [
        {
          "output_type": "stream",
          "text": [
            "<class 'pandas.core.frame.DataFrame'>\n",
            "RangeIndex: 900 entries, 0 to 899\n",
            "Data columns (total 25 columns):\n",
            "city                     900 non-null object\n",
            "country                  900 non-null object\n",
            "fullStreetAddress        900 non-null object\n",
            "postalCode               900 non-null object\n",
            "stateOrProvince          899 non-null object\n",
            "unitNumber               118 non-null object\n",
            "bathrooms                900 non-null int64\n",
            "bedrooms                 900 non-null int64\n",
            "listingDescription       842 non-null object\n",
            "listingTitle             900 non-null object\n",
            "latitude                 789 non-null float64\n",
            "longitude                789 non-null float64\n",
            "listPrice                900 non-null float64\n",
            "livingArea               726 non-null float64\n",
            "livingAreaUnit           900 non-null object\n",
            "yearBuilt                791 non-null float64\n",
            "lotSize                  562 non-null float64\n",
            "lotSizeUnit              900 non-null object\n",
            "propertySubType          900 non-null object\n",
            "listingCategory          900 non-null object\n",
            "numParkingSpaces         460 non-null float64\n",
            "createdAt                900 non-null object\n",
            "geocodioAccuracyScore    27 non-null float64\n",
            "photoscount              900 non-null int64\n",
            "grade                    900 non-null object\n",
            "dtypes: float64(8), int64(3), object(14)\n",
            "memory usage: 175.9+ KB\n"
          ],
          "name": "stdout"
        }
      ]
    },
    {
      "metadata": {
        "id": "pxAK62a3Bzpl",
        "colab_type": "code",
        "colab": {
          "base_uri": "https://localhost:8080/",
          "height": 374
        },
        "outputId": "f5196728-78d3-4540-f9fe-92a61ebc705b"
      },
      "cell_type": "code",
      "source": [
        "df.info()"
      ],
      "execution_count": 103,
      "outputs": [
        {
          "output_type": "stream",
          "text": [
            "<class 'pandas.core.frame.DataFrame'>\n",
            "RangeIndex: 900 entries, 0 to 899\n",
            "Data columns (total 16 columns):\n",
            "city                900 non-null object\n",
            "country             900 non-null object\n",
            "postalCode          900 non-null object\n",
            "bathrooms           900 non-null int64\n",
            "bedrooms            900 non-null int64\n",
            "listPrice           900 non-null float64\n",
            "livingArea          726 non-null float64\n",
            "livingAreaUnit      900 non-null object\n",
            "lotSize             562 non-null float64\n",
            "lotSizeUnit         900 non-null object\n",
            "propertySubType     900 non-null object\n",
            "listingCategory     900 non-null object\n",
            "numParkingSpaces    460 non-null float64\n",
            "createdAt           900 non-null object\n",
            "photoscount         900 non-null int64\n",
            "grade               900 non-null object\n",
            "dtypes: float64(4), int64(3), object(9)\n",
            "memory usage: 112.6+ KB\n"
          ],
          "name": "stdout"
        }
      ]
    },
    {
      "metadata": {
        "id": "yY0q2_ypEZ_W",
        "colab_type": "code",
        "colab": {}
      },
      "cell_type": "code",
      "source": [
        ""
      ],
      "execution_count": 0,
      "outputs": []
    },
    {
      "metadata": {
        "id": "JU0VyQXAEbmp",
        "colab_type": "code",
        "colab": {}
      },
      "cell_type": "code",
      "source": [
        "df['createdAt'] = df['createdAt'].astype('category')\n",
        "df['listingCategory'] = df['listingCategory'].astype('category')\n",
        "df['propertySubType'] = df['propertySubType'].astype('category')\n",
        "df['lotSizeUnit'] = df['lotSizeUnit'].astype('category')\n",
        "df['livingAreaUnit'] = df['livingAreaUnit'].astype('category')\n",
        "\n",
        "df['postalCode'] = df['postalCode'].astype('category')\n",
        "df['country'] = df['country'].astype('category')\n",
        "df['city'] = df['city'].astype('category')\n"
      ],
      "execution_count": 0,
      "outputs": []
    },
    {
      "metadata": {
        "id": "38gTZfNo6kDb",
        "colab_type": "code",
        "colab": {
          "base_uri": "https://localhost:8080/",
          "height": 374
        },
        "outputId": "80828575-77b7-4888-e93b-6e7ca3c71df0"
      },
      "cell_type": "code",
      "source": [
        "df.info()"
      ],
      "execution_count": 105,
      "outputs": [
        {
          "output_type": "stream",
          "text": [
            "<class 'pandas.core.frame.DataFrame'>\n",
            "RangeIndex: 900 entries, 0 to 899\n",
            "Data columns (total 16 columns):\n",
            "city                900 non-null category\n",
            "country             900 non-null category\n",
            "postalCode          900 non-null category\n",
            "bathrooms           900 non-null int64\n",
            "bedrooms            900 non-null int64\n",
            "listPrice           900 non-null float64\n",
            "livingArea          726 non-null float64\n",
            "livingAreaUnit      900 non-null category\n",
            "lotSize             562 non-null float64\n",
            "lotSizeUnit         900 non-null category\n",
            "propertySubType     900 non-null category\n",
            "listingCategory     900 non-null category\n",
            "numParkingSpaces    460 non-null float64\n",
            "createdAt           900 non-null category\n",
            "photoscount         900 non-null int64\n",
            "grade               900 non-null object\n",
            "dtypes: category(8), float64(4), int64(3), object(1)\n",
            "memory usage: 165.1+ KB\n"
          ],
          "name": "stdout"
        }
      ]
    },
    {
      "metadata": {
        "id": "C68ndF_-62Xx",
        "colab_type": "code",
        "colab": {}
      },
      "cell_type": "code",
      "source": [
        "cat_columns = df.select_dtypes(['category']).columns\n",
        "df[cat_columns] = df[cat_columns].apply(lambda x: x.cat.codes)"
      ],
      "execution_count": 0,
      "outputs": []
    },
    {
      "metadata": {
        "id": "KxzaGKgB7EQc",
        "colab_type": "code",
        "colab": {
          "base_uri": "https://localhost:8080/",
          "height": 374
        },
        "outputId": "968ede9f-6f36-423f-9b08-34f73c973504"
      },
      "cell_type": "code",
      "source": [
        "df.info()\n"
      ],
      "execution_count": 107,
      "outputs": [
        {
          "output_type": "stream",
          "text": [
            "<class 'pandas.core.frame.DataFrame'>\n",
            "RangeIndex: 900 entries, 0 to 899\n",
            "Data columns (total 16 columns):\n",
            "city                900 non-null int16\n",
            "country             900 non-null int8\n",
            "postalCode          900 non-null int16\n",
            "bathrooms           900 non-null int64\n",
            "bedrooms            900 non-null int64\n",
            "listPrice           900 non-null float64\n",
            "livingArea          726 non-null float64\n",
            "livingAreaUnit      900 non-null int8\n",
            "lotSize             562 non-null float64\n",
            "lotSizeUnit         900 non-null int8\n",
            "propertySubType     900 non-null int8\n",
            "listingCategory     900 non-null int8\n",
            "numParkingSpaces    460 non-null float64\n",
            "createdAt           900 non-null int16\n",
            "photoscount         900 non-null int64\n",
            "grade               900 non-null object\n",
            "dtypes: float64(4), int16(3), int64(3), int8(5), object(1)\n",
            "memory usage: 66.0+ KB\n"
          ],
          "name": "stdout"
        }
      ]
    },
    {
      "metadata": {
        "id": "Mdzj-yIb7Gt4",
        "colab_type": "code",
        "colab": {}
      },
      "cell_type": "code",
      "source": [
        "df=df.fillna(df.mean())"
      ],
      "execution_count": 0,
      "outputs": []
    },
    {
      "metadata": {
        "id": "MMPrdy3B7ttu",
        "colab_type": "code",
        "colab": {
          "base_uri": "https://localhost:8080/",
          "height": 374
        },
        "outputId": "cc77d66f-edae-4508-b5ee-a7b51f03ba68"
      },
      "cell_type": "code",
      "source": [
        "df.info()"
      ],
      "execution_count": 109,
      "outputs": [
        {
          "output_type": "stream",
          "text": [
            "<class 'pandas.core.frame.DataFrame'>\n",
            "RangeIndex: 900 entries, 0 to 899\n",
            "Data columns (total 16 columns):\n",
            "city                900 non-null int16\n",
            "country             900 non-null int8\n",
            "postalCode          900 non-null int16\n",
            "bathrooms           900 non-null int64\n",
            "bedrooms            900 non-null int64\n",
            "listPrice           900 non-null float64\n",
            "livingArea          900 non-null float64\n",
            "livingAreaUnit      900 non-null int8\n",
            "lotSize             900 non-null float64\n",
            "lotSizeUnit         900 non-null int8\n",
            "propertySubType     900 non-null int8\n",
            "listingCategory     900 non-null int8\n",
            "numParkingSpaces    900 non-null float64\n",
            "createdAt           900 non-null int16\n",
            "photoscount         900 non-null int64\n",
            "grade               900 non-null object\n",
            "dtypes: float64(4), int16(3), int64(3), int8(5), object(1)\n",
            "memory usage: 66.0+ KB\n"
          ],
          "name": "stdout"
        }
      ]
    },
    {
      "metadata": {
        "id": "e042N4CR7x-8",
        "colab_type": "code",
        "colab": {
          "base_uri": "https://localhost:8080/",
          "height": 224
        },
        "outputId": "22aa193a-4762-48ec-fff3-5c6fb9a61beb"
      },
      "cell_type": "code",
      "source": [
        "df=pd.get_dummies(df,columns=['grade'])\n",
        "\n",
        "df.drop(['lotSizeUnit'],axis=1,inplace=True)\n",
        "df.drop(['livingAreaUnit'],axis=1,inplace=True)\n",
        "df.head()"
      ],
      "execution_count": 110,
      "outputs": [
        {
          "output_type": "execute_result",
          "data": {
            "text/html": [
              "<div>\n",
              "<style scoped>\n",
              "    .dataframe tbody tr th:only-of-type {\n",
              "        vertical-align: middle;\n",
              "    }\n",
              "\n",
              "    .dataframe tbody tr th {\n",
              "        vertical-align: top;\n",
              "    }\n",
              "\n",
              "    .dataframe thead th {\n",
              "        text-align: right;\n",
              "    }\n",
              "</style>\n",
              "<table border=\"1\" class=\"dataframe\">\n",
              "  <thead>\n",
              "    <tr style=\"text-align: right;\">\n",
              "      <th></th>\n",
              "      <th>city</th>\n",
              "      <th>country</th>\n",
              "      <th>postalCode</th>\n",
              "      <th>bathrooms</th>\n",
              "      <th>bedrooms</th>\n",
              "      <th>listPrice</th>\n",
              "      <th>livingArea</th>\n",
              "      <th>lotSize</th>\n",
              "      <th>propertySubType</th>\n",
              "      <th>listingCategory</th>\n",
              "      <th>numParkingSpaces</th>\n",
              "      <th>createdAt</th>\n",
              "      <th>photoscount</th>\n",
              "      <th>grade_awesome</th>\n",
              "      <th>grade_bad</th>\n",
              "      <th>grade_good</th>\n",
              "    </tr>\n",
              "  </thead>\n",
              "  <tbody>\n",
              "    <tr>\n",
              "      <th>0</th>\n",
              "      <td>538</td>\n",
              "      <td>2</td>\n",
              "      <td>508</td>\n",
              "      <td>6</td>\n",
              "      <td>5</td>\n",
              "      <td>425000.0</td>\n",
              "      <td>3046.0</td>\n",
              "      <td>122417.000783</td>\n",
              "      <td>9</td>\n",
              "      <td>0</td>\n",
              "      <td>3.0</td>\n",
              "      <td>899</td>\n",
              "      <td>29</td>\n",
              "      <td>1</td>\n",
              "      <td>0</td>\n",
              "      <td>0</td>\n",
              "    </tr>\n",
              "    <tr>\n",
              "      <th>1</th>\n",
              "      <td>537</td>\n",
              "      <td>2</td>\n",
              "      <td>505</td>\n",
              "      <td>2</td>\n",
              "      <td>3</td>\n",
              "      <td>175000.0</td>\n",
              "      <td>1587.0</td>\n",
              "      <td>7753.680000</td>\n",
              "      <td>9</td>\n",
              "      <td>0</td>\n",
              "      <td>1.0</td>\n",
              "      <td>898</td>\n",
              "      <td>29</td>\n",
              "      <td>1</td>\n",
              "      <td>0</td>\n",
              "      <td>0</td>\n",
              "    </tr>\n",
              "    <tr>\n",
              "      <th>2</th>\n",
              "      <td>29</td>\n",
              "      <td>2</td>\n",
              "      <td>500</td>\n",
              "      <td>3</td>\n",
              "      <td>3</td>\n",
              "      <td>295000.0</td>\n",
              "      <td>2437.0</td>\n",
              "      <td>14766.840000</td>\n",
              "      <td>1</td>\n",
              "      <td>0</td>\n",
              "      <td>2.0</td>\n",
              "      <td>897</td>\n",
              "      <td>29</td>\n",
              "      <td>1</td>\n",
              "      <td>0</td>\n",
              "      <td>0</td>\n",
              "    </tr>\n",
              "    <tr>\n",
              "      <th>3</th>\n",
              "      <td>330</td>\n",
              "      <td>2</td>\n",
              "      <td>500</td>\n",
              "      <td>2</td>\n",
              "      <td>3</td>\n",
              "      <td>215000.0</td>\n",
              "      <td>1780.0</td>\n",
              "      <td>11848.320000</td>\n",
              "      <td>9</td>\n",
              "      <td>0</td>\n",
              "      <td>2.0</td>\n",
              "      <td>896</td>\n",
              "      <td>29</td>\n",
              "      <td>1</td>\n",
              "      <td>0</td>\n",
              "      <td>0</td>\n",
              "    </tr>\n",
              "    <tr>\n",
              "      <th>4</th>\n",
              "      <td>401</td>\n",
              "      <td>2</td>\n",
              "      <td>507</td>\n",
              "      <td>4</td>\n",
              "      <td>4</td>\n",
              "      <td>375000.0</td>\n",
              "      <td>3405.0</td>\n",
              "      <td>10890.000000</td>\n",
              "      <td>9</td>\n",
              "      <td>0</td>\n",
              "      <td>3.0</td>\n",
              "      <td>895</td>\n",
              "      <td>29</td>\n",
              "      <td>1</td>\n",
              "      <td>0</td>\n",
              "      <td>0</td>\n",
              "    </tr>\n",
              "  </tbody>\n",
              "</table>\n",
              "</div>"
            ],
            "text/plain": [
              "   city  country  postalCode  bathrooms  bedrooms  listPrice  livingArea  \\\n",
              "0   538        2         508          6         5   425000.0      3046.0   \n",
              "1   537        2         505          2         3   175000.0      1587.0   \n",
              "2    29        2         500          3         3   295000.0      2437.0   \n",
              "3   330        2         500          2         3   215000.0      1780.0   \n",
              "4   401        2         507          4         4   375000.0      3405.0   \n",
              "\n",
              "         lotSize  propertySubType  listingCategory  numParkingSpaces  \\\n",
              "0  122417.000783                9                0               3.0   \n",
              "1    7753.680000                9                0               1.0   \n",
              "2   14766.840000                1                0               2.0   \n",
              "3   11848.320000                9                0               2.0   \n",
              "4   10890.000000                9                0               3.0   \n",
              "\n",
              "   createdAt  photoscount  grade_awesome  grade_bad  grade_good  \n",
              "0        899           29              1          0           0  \n",
              "1        898           29              1          0           0  \n",
              "2        897           29              1          0           0  \n",
              "3        896           29              1          0           0  \n",
              "4        895           29              1          0           0  "
            ]
          },
          "metadata": {
            "tags": []
          },
          "execution_count": 110
        }
      ]
    },
    {
      "metadata": {
        "id": "xXgnSTqo9SSS",
        "colab_type": "code",
        "colab": {
          "base_uri": "https://localhost:8080/",
          "height": 204
        },
        "outputId": "b7b29e6b-02a3-468c-d427-560a2ba040b8"
      },
      "cell_type": "code",
      "source": [
        "df1=df.iloc[:,0:13]\n",
        "df1.head()"
      ],
      "execution_count": 112,
      "outputs": [
        {
          "output_type": "execute_result",
          "data": {
            "text/html": [
              "<div>\n",
              "<style scoped>\n",
              "    .dataframe tbody tr th:only-of-type {\n",
              "        vertical-align: middle;\n",
              "    }\n",
              "\n",
              "    .dataframe tbody tr th {\n",
              "        vertical-align: top;\n",
              "    }\n",
              "\n",
              "    .dataframe thead th {\n",
              "        text-align: right;\n",
              "    }\n",
              "</style>\n",
              "<table border=\"1\" class=\"dataframe\">\n",
              "  <thead>\n",
              "    <tr style=\"text-align: right;\">\n",
              "      <th></th>\n",
              "      <th>city</th>\n",
              "      <th>country</th>\n",
              "      <th>postalCode</th>\n",
              "      <th>bathrooms</th>\n",
              "      <th>bedrooms</th>\n",
              "      <th>listPrice</th>\n",
              "      <th>livingArea</th>\n",
              "      <th>lotSize</th>\n",
              "      <th>propertySubType</th>\n",
              "      <th>listingCategory</th>\n",
              "      <th>numParkingSpaces</th>\n",
              "      <th>createdAt</th>\n",
              "      <th>photoscount</th>\n",
              "    </tr>\n",
              "  </thead>\n",
              "  <tbody>\n",
              "    <tr>\n",
              "      <th>0</th>\n",
              "      <td>538</td>\n",
              "      <td>2</td>\n",
              "      <td>508</td>\n",
              "      <td>6</td>\n",
              "      <td>5</td>\n",
              "      <td>425000.0</td>\n",
              "      <td>3046.0</td>\n",
              "      <td>122417.000783</td>\n",
              "      <td>9</td>\n",
              "      <td>0</td>\n",
              "      <td>3.0</td>\n",
              "      <td>899</td>\n",
              "      <td>29</td>\n",
              "    </tr>\n",
              "    <tr>\n",
              "      <th>1</th>\n",
              "      <td>537</td>\n",
              "      <td>2</td>\n",
              "      <td>505</td>\n",
              "      <td>2</td>\n",
              "      <td>3</td>\n",
              "      <td>175000.0</td>\n",
              "      <td>1587.0</td>\n",
              "      <td>7753.680000</td>\n",
              "      <td>9</td>\n",
              "      <td>0</td>\n",
              "      <td>1.0</td>\n",
              "      <td>898</td>\n",
              "      <td>29</td>\n",
              "    </tr>\n",
              "    <tr>\n",
              "      <th>2</th>\n",
              "      <td>29</td>\n",
              "      <td>2</td>\n",
              "      <td>500</td>\n",
              "      <td>3</td>\n",
              "      <td>3</td>\n",
              "      <td>295000.0</td>\n",
              "      <td>2437.0</td>\n",
              "      <td>14766.840000</td>\n",
              "      <td>1</td>\n",
              "      <td>0</td>\n",
              "      <td>2.0</td>\n",
              "      <td>897</td>\n",
              "      <td>29</td>\n",
              "    </tr>\n",
              "    <tr>\n",
              "      <th>3</th>\n",
              "      <td>330</td>\n",
              "      <td>2</td>\n",
              "      <td>500</td>\n",
              "      <td>2</td>\n",
              "      <td>3</td>\n",
              "      <td>215000.0</td>\n",
              "      <td>1780.0</td>\n",
              "      <td>11848.320000</td>\n",
              "      <td>9</td>\n",
              "      <td>0</td>\n",
              "      <td>2.0</td>\n",
              "      <td>896</td>\n",
              "      <td>29</td>\n",
              "    </tr>\n",
              "    <tr>\n",
              "      <th>4</th>\n",
              "      <td>401</td>\n",
              "      <td>2</td>\n",
              "      <td>507</td>\n",
              "      <td>4</td>\n",
              "      <td>4</td>\n",
              "      <td>375000.0</td>\n",
              "      <td>3405.0</td>\n",
              "      <td>10890.000000</td>\n",
              "      <td>9</td>\n",
              "      <td>0</td>\n",
              "      <td>3.0</td>\n",
              "      <td>895</td>\n",
              "      <td>29</td>\n",
              "    </tr>\n",
              "  </tbody>\n",
              "</table>\n",
              "</div>"
            ],
            "text/plain": [
              "   city  country  postalCode  bathrooms  bedrooms  listPrice  livingArea  \\\n",
              "0   538        2         508          6         5   425000.0      3046.0   \n",
              "1   537        2         505          2         3   175000.0      1587.0   \n",
              "2    29        2         500          3         3   295000.0      2437.0   \n",
              "3   330        2         500          2         3   215000.0      1780.0   \n",
              "4   401        2         507          4         4   375000.0      3405.0   \n",
              "\n",
              "         lotSize  propertySubType  listingCategory  numParkingSpaces  \\\n",
              "0  122417.000783                9                0               3.0   \n",
              "1    7753.680000                9                0               1.0   \n",
              "2   14766.840000                1                0               2.0   \n",
              "3   11848.320000                9                0               2.0   \n",
              "4   10890.000000                9                0               3.0   \n",
              "\n",
              "   createdAt  photoscount  \n",
              "0        899           29  \n",
              "1        898           29  \n",
              "2        897           29  \n",
              "3        896           29  \n",
              "4        895           29  "
            ]
          },
          "metadata": {
            "tags": []
          },
          "execution_count": 112
        }
      ]
    },
    {
      "metadata": {
        "id": "ZcSSX0q19z09",
        "colab_type": "code",
        "colab": {
          "base_uri": "https://localhost:8080/",
          "height": 204
        },
        "outputId": "a71b552e-4c76-4d44-d31c-d8c2415d7b70"
      },
      "cell_type": "code",
      "source": [
        "df2=df.iloc[:,13:]\n",
        "df2.head()"
      ],
      "execution_count": 113,
      "outputs": [
        {
          "output_type": "execute_result",
          "data": {
            "text/html": [
              "<div>\n",
              "<style scoped>\n",
              "    .dataframe tbody tr th:only-of-type {\n",
              "        vertical-align: middle;\n",
              "    }\n",
              "\n",
              "    .dataframe tbody tr th {\n",
              "        vertical-align: top;\n",
              "    }\n",
              "\n",
              "    .dataframe thead th {\n",
              "        text-align: right;\n",
              "    }\n",
              "</style>\n",
              "<table border=\"1\" class=\"dataframe\">\n",
              "  <thead>\n",
              "    <tr style=\"text-align: right;\">\n",
              "      <th></th>\n",
              "      <th>grade_awesome</th>\n",
              "      <th>grade_bad</th>\n",
              "      <th>grade_good</th>\n",
              "    </tr>\n",
              "  </thead>\n",
              "  <tbody>\n",
              "    <tr>\n",
              "      <th>0</th>\n",
              "      <td>1</td>\n",
              "      <td>0</td>\n",
              "      <td>0</td>\n",
              "    </tr>\n",
              "    <tr>\n",
              "      <th>1</th>\n",
              "      <td>1</td>\n",
              "      <td>0</td>\n",
              "      <td>0</td>\n",
              "    </tr>\n",
              "    <tr>\n",
              "      <th>2</th>\n",
              "      <td>1</td>\n",
              "      <td>0</td>\n",
              "      <td>0</td>\n",
              "    </tr>\n",
              "    <tr>\n",
              "      <th>3</th>\n",
              "      <td>1</td>\n",
              "      <td>0</td>\n",
              "      <td>0</td>\n",
              "    </tr>\n",
              "    <tr>\n",
              "      <th>4</th>\n",
              "      <td>1</td>\n",
              "      <td>0</td>\n",
              "      <td>0</td>\n",
              "    </tr>\n",
              "  </tbody>\n",
              "</table>\n",
              "</div>"
            ],
            "text/plain": [
              "   grade_awesome  grade_bad  grade_good\n",
              "0              1          0           0\n",
              "1              1          0           0\n",
              "2              1          0           0\n",
              "3              1          0           0\n",
              "4              1          0           0"
            ]
          },
          "metadata": {
            "tags": []
          },
          "execution_count": 113
        }
      ]
    },
    {
      "metadata": {
        "id": "v_E-82GE98Vx",
        "colab_type": "code",
        "colab": {
          "base_uri": "https://localhost:8080/",
          "height": 68
        },
        "outputId": "3a8c36df-2614-445c-8a0c-bf4be4f1eb20"
      },
      "cell_type": "code",
      "source": [
        "X=np.array(df1)\n",
        "y=np.array(df2)\n",
        "X[1]"
      ],
      "execution_count": 114,
      "outputs": [
        {
          "output_type": "execute_result",
          "data": {
            "text/plain": [
              "array([5.37000e+02, 2.00000e+00, 5.05000e+02, 2.00000e+00, 3.00000e+00,\n",
              "       1.75000e+05, 1.58700e+03, 7.75368e+03, 9.00000e+00, 0.00000e+00,\n",
              "       1.00000e+00, 8.98000e+02, 2.90000e+01])"
            ]
          },
          "metadata": {
            "tags": []
          },
          "execution_count": 114
        }
      ]
    },
    {
      "metadata": {
        "id": "MXARWJv2_nVZ",
        "colab_type": "code",
        "colab": {
          "base_uri": "https://localhost:8080/",
          "height": 68
        },
        "outputId": "d43202b3-64a7-4fd8-b02b-adce87fb806d"
      },
      "cell_type": "code",
      "source": [
        "df1.isnull().any()\n",
        "X[1]"
      ],
      "execution_count": 115,
      "outputs": [
        {
          "output_type": "execute_result",
          "data": {
            "text/plain": [
              "array([5.37000e+02, 2.00000e+00, 5.05000e+02, 2.00000e+00, 3.00000e+00,\n",
              "       1.75000e+05, 1.58700e+03, 7.75368e+03, 9.00000e+00, 0.00000e+00,\n",
              "       1.00000e+00, 8.98000e+02, 2.90000e+01])"
            ]
          },
          "metadata": {
            "tags": []
          },
          "execution_count": 115
        }
      ]
    },
    {
      "metadata": {
        "id": "qU_IbwdB_o2U",
        "colab_type": "code",
        "colab": {
          "base_uri": "https://localhost:8080/",
          "height": 85
        },
        "outputId": "a6aada6d-c88a-4066-f28a-42bb488bedf3"
      },
      "cell_type": "code",
      "source": [
        "np.linalg.norm(X,axis=0)\n"
      ],
      "execution_count": 116,
      "outputs": [
        {
          "output_type": "execute_result",
          "data": {
            "text/plain": [
              "array([1.05250770e+04, 5.99082632e+01, 1.35115344e+04, 7.80896920e+01,\n",
              "       1.08765803e+02, 1.46607572e+08, 1.28141911e+05, 2.65594595e+07,\n",
              "       2.47455046e+02, 1.10453610e+01, 1.00655885e+03, 1.55754663e+04,\n",
              "       7.42905108e+02])"
            ]
          },
          "metadata": {
            "tags": []
          },
          "execution_count": 116
        }
      ]
    },
    {
      "metadata": {
        "id": "gOrC8kEb_zv5",
        "colab_type": "code",
        "colab": {
          "base_uri": "https://localhost:8080/",
          "height": 68
        },
        "outputId": "462ef0fd-fa82-4c4b-c004-007f20bf3ede"
      },
      "cell_type": "code",
      "source": [
        "X=X/np.linalg.norm(X,axis=0)\n",
        "X[1]"
      ],
      "execution_count": 117,
      "outputs": [
        {
          "output_type": "execute_result",
          "data": {
            "text/plain": [
              "array([0.051021  , 0.03338438, 0.03737547, 0.02561157, 0.0275822 ,\n",
              "       0.00119366, 0.01238471, 0.00029194, 0.03637024, 0.        ,\n",
              "       0.00099348, 0.05765477, 0.03903594])"
            ]
          },
          "metadata": {
            "tags": []
          },
          "execution_count": 117
        }
      ]
    },
    {
      "metadata": {
        "id": "ilOFpEuJASsP",
        "colab_type": "code",
        "colab": {}
      },
      "cell_type": "code",
      "source": [
        "from keras.models import Sequential\n",
        "from keras.layers import Dense, Activation,Dropout"
      ],
      "execution_count": 0,
      "outputs": []
    },
    {
      "metadata": {
        "id": "CG25eGsqBdGu",
        "colab_type": "code",
        "colab": {
          "base_uri": "https://localhost:8080/",
          "height": 68
        },
        "outputId": "2d9c7638-2be4-4dd4-eda3-28658f2b4115"
      },
      "cell_type": "code",
      "source": [
        "X[1]"
      ],
      "execution_count": 119,
      "outputs": [
        {
          "output_type": "execute_result",
          "data": {
            "text/plain": [
              "array([0.051021  , 0.03338438, 0.03737547, 0.02561157, 0.0275822 ,\n",
              "       0.00119366, 0.01238471, 0.00029194, 0.03637024, 0.        ,\n",
              "       0.00099348, 0.05765477, 0.03903594])"
            ]
          },
          "metadata": {
            "tags": []
          },
          "execution_count": 119
        }
      ]
    },
    {
      "metadata": {
        "id": "ckm2usQ3A0kH",
        "colab_type": "code",
        "colab": {}
      },
      "cell_type": "code",
      "source": [
        "model=Sequential()\n",
        "model.add(Dense(32,activation='relu',input_dim=13))\n",
        "model.add(Dropout(0.5))\n",
        "model.add(Dense(16,activation='relu'))\n",
        "model.add(Dropout(0.5))\n",
        "model.add(Dense(3, activation='softmax'))"
      ],
      "execution_count": 0,
      "outputs": []
    },
    {
      "metadata": {
        "id": "NnM5KGw8CENb",
        "colab_type": "code",
        "colab": {}
      },
      "cell_type": "code",
      "source": [
        "from keras.optimizers import Adam\n",
        "\n",
        "model.compile(loss='mean_squared_error',\n",
        "              optimizer=Adam(),\n",
        "              metrics=['accuracy'])\n"
      ],
      "execution_count": 0,
      "outputs": []
    },
    {
      "metadata": {
        "id": "s2zmOHTiCo8C",
        "colab_type": "code",
        "colab": {
          "base_uri": "https://localhost:8080/",
          "height": 306
        },
        "outputId": "36bc7902-2347-4293-a71a-85bdf42b68e5"
      },
      "cell_type": "code",
      "source": [
        "model.summary()"
      ],
      "execution_count": 129,
      "outputs": [
        {
          "output_type": "stream",
          "text": [
            "_________________________________________________________________\n",
            "Layer (type)                 Output Shape              Param #   \n",
            "=================================================================\n",
            "dense_23 (Dense)             (None, 32)                448       \n",
            "_________________________________________________________________\n",
            "dropout_13 (Dropout)         (None, 32)                0         \n",
            "_________________________________________________________________\n",
            "dense_24 (Dense)             (None, 16)                528       \n",
            "_________________________________________________________________\n",
            "dropout_14 (Dropout)         (None, 16)                0         \n",
            "_________________________________________________________________\n",
            "dense_25 (Dense)             (None, 3)                 51        \n",
            "=================================================================\n",
            "Total params: 1,027\n",
            "Trainable params: 1,027\n",
            "Non-trainable params: 0\n",
            "_________________________________________________________________\n"
          ],
          "name": "stdout"
        }
      ]
    },
    {
      "metadata": {
        "id": "fHrCdQqeCWUB",
        "colab_type": "code",
        "colab": {
          "base_uri": "https://localhost:8080/",
          "height": 714
        },
        "outputId": "10c3ce6d-ce33-47cb-f5a0-c4a2fc8914f6"
      },
      "cell_type": "code",
      "source": [
        "model.fit(X,y,epochs=20,steps_per_epoch=2000)"
      ],
      "execution_count": 130,
      "outputs": [
        {
          "output_type": "stream",
          "text": [
            "Epoch 1/20\n",
            "2000/2000 [==============================] - 5s 3ms/step - loss: 0.0896 - acc: 0.8215\n",
            "Epoch 2/20\n",
            "2000/2000 [==============================] - 5s 3ms/step - loss: 0.0421 - acc: 0.9244\n",
            "Epoch 3/20\n",
            "2000/2000 [==============================] - 5s 3ms/step - loss: 0.0337 - acc: 0.9406\n",
            "Epoch 4/20\n",
            "2000/2000 [==============================] - 5s 3ms/step - loss: 0.0304 - acc: 0.9463\n",
            "Epoch 5/20\n",
            "2000/2000 [==============================] - 5s 3ms/step - loss: 0.0286 - acc: 0.9494\n",
            "Epoch 6/20\n",
            "2000/2000 [==============================] - 5s 3ms/step - loss: 0.0273 - acc: 0.9515\n",
            "Epoch 7/20\n",
            "2000/2000 [==============================] - 5s 3ms/step - loss: 0.0267 - acc: 0.9524\n",
            "Epoch 8/20\n",
            "2000/2000 [==============================] - 5s 2ms/step - loss: 0.0262 - acc: 0.9533\n",
            "Epoch 9/20\n",
            "2000/2000 [==============================] - 5s 3ms/step - loss: 0.0260 - acc: 0.9535\n",
            "Epoch 10/20\n",
            "2000/2000 [==============================] - 5s 3ms/step - loss: 0.0257 - acc: 0.9540\n",
            "Epoch 11/20\n",
            "2000/2000 [==============================] - 5s 3ms/step - loss: 0.0256 - acc: 0.9540\n",
            "Epoch 12/20\n",
            "2000/2000 [==============================] - 5s 3ms/step - loss: 0.0255 - acc: 0.9543\n",
            "Epoch 13/20\n",
            "2000/2000 [==============================] - 5s 3ms/step - loss: 0.0254 - acc: 0.9544\n",
            "Epoch 14/20\n",
            "2000/2000 [==============================] - 5s 2ms/step - loss: 0.0253 - acc: 0.9546\n",
            "Epoch 15/20\n",
            "2000/2000 [==============================] - 5s 3ms/step - loss: 0.0253 - acc: 0.9545\n",
            "Epoch 16/20\n",
            "2000/2000 [==============================] - 5s 3ms/step - loss: 0.0252 - acc: 0.9547\n",
            "Epoch 17/20\n",
            "2000/2000 [==============================] - 5s 3ms/step - loss: 0.0251 - acc: 0.9549\n",
            "Epoch 18/20\n",
            "2000/2000 [==============================] - 5s 3ms/step - loss: 0.0250 - acc: 0.9553\n",
            "Epoch 19/20\n",
            "2000/2000 [==============================] - 5s 3ms/step - loss: 0.0249 - acc: 0.9553\n",
            "Epoch 20/20\n",
            "2000/2000 [==============================] - 5s 3ms/step - loss: 0.0250 - acc: 0.9553\n"
          ],
          "name": "stdout"
        },
        {
          "output_type": "execute_result",
          "data": {
            "text/plain": [
              "<keras.callbacks.History at 0x7fa34f74f550>"
            ]
          },
          "metadata": {
            "tags": []
          },
          "execution_count": 130
        }
      ]
    },
    {
      "metadata": {
        "id": "eeE-DiowCeMF",
        "colab_type": "code",
        "colab": {}
      },
      "cell_type": "code",
      "source": [
        "pred=model.predict(X)"
      ],
      "execution_count": 0,
      "outputs": []
    },
    {
      "metadata": {
        "id": "LmD8dmdKEn4g",
        "colab_type": "code",
        "colab": {
          "base_uri": "https://localhost:8080/",
          "height": 136
        },
        "outputId": "db46ecaa-4362-4367-c822-b545199b5691"
      },
      "cell_type": "code",
      "source": [
        "pred"
      ],
      "execution_count": 132,
      "outputs": [
        {
          "output_type": "execute_result",
          "data": {
            "text/plain": [
              "array([[1.0000000e+00, 0.0000000e+00, 2.6663152e-08],\n",
              "       [9.9999738e-01, 0.0000000e+00, 2.6003167e-06],\n",
              "       [9.9995148e-01, 0.0000000e+00, 4.8514215e-05],\n",
              "       ...,\n",
              "       [0.0000000e+00, 1.0000000e+00, 2.0535342e-08],\n",
              "       [0.0000000e+00, 1.0000000e+00, 4.1256678e-09],\n",
              "       [0.0000000e+00, 1.0000000e+00, 5.2459410e-09]], dtype=float32)"
            ]
          },
          "metadata": {
            "tags": []
          },
          "execution_count": 132
        }
      ]
    },
    {
      "metadata": {
        "id": "PN56rbGPEpJN",
        "colab_type": "code",
        "colab": {
          "base_uri": "https://localhost:8080/",
          "height": 34
        },
        "outputId": "1eb78e9c-f740-445e-a047-6751f4a257b5"
      },
      "cell_type": "code",
      "source": [
        "names=['grade_awesome','grade_bad','grade_good']\n",
        "a=np.argmax(pred[0])\n",
        "names[a]"
      ],
      "execution_count": 135,
      "outputs": [
        {
          "output_type": "execute_result",
          "data": {
            "text/plain": [
              "'grade_awesome'"
            ]
          },
          "metadata": {
            "tags": []
          },
          "execution_count": 135
        }
      ]
    },
    {
      "metadata": {
        "id": "lUuOsAU5Jxql",
        "colab_type": "code",
        "colab": {}
      },
      "cell_type": "code",
      "source": [
        "model.save('my_model.h5')\n"
      ],
      "execution_count": 0,
      "outputs": []
    },
    {
      "metadata": {
        "id": "dA_0ELmSKRhO",
        "colab_type": "code",
        "colab": {}
      },
      "cell_type": "code",
      "source": [
        ""
      ],
      "execution_count": 0,
      "outputs": []
    }
  ]
}